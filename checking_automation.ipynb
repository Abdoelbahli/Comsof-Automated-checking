{
 "cells": [
  {
   "cell_type": "code",
   "execution_count": null,
   "id": "a44cb532",
   "metadata": {},
   "outputs": [],
   "source": [
    "import yaml\n",
    "import sys\n",
    "from automation import check_osc_duplicates, check_invalid_cable_refs, report_splice_counts_by_closure, process_shapefiles, check_gistool_id"
   ]
  },
  {
   "cell_type": "code",
   "execution_count": null,
   "id": "53ddf6ca",
   "metadata": {},
   "outputs": [],
   "source": [
    "# Load configuration from YAML\n",
    "try:\n",
    "    with open('config/secrets.yml', 'r') as f:\n",
    "        config = yaml.safe_load(f)\n",
    "    Workspace = config['outputfolder']['path']\n",
    "except Exception as e:\n",
    "    print(f\"Error reading config file: {e}\")\n",
    "    sys.exit(1)"
   ]
  },
  {
   "cell_type": "code",
   "execution_count": null,
   "id": "38524342",
   "metadata": {},
   "outputs": [],
   "source": [
    "# Call the function with direct path\n",
    "result = check_osc_duplicates(Workspace)\n",
    "\n",
    "# Or call with hardcoded path\n",
    "\n",
    "# Handle results\n",
    "if result is None:\n",
    "    print(\"Check failed due to errors\")\n",
    "elif result:\n",
    "    print(\"Action required: Duplicates found!\")\n",
    "else:\n",
    "    print(\"Data quality check passed\")\n"
   ]
  },
  {
   "cell_type": "code",
   "execution_count": null,
   "id": "8ed10a27",
   "metadata": {},
   "outputs": [],
   "source": [
    "check_invalid_cable_refs(Workspace)"
   ]
  },
  {
   "cell_type": "code",
   "execution_count": null,
   "id": "fb88156f",
   "metadata": {},
   "outputs": [],
   "source": [
    "report_splice_counts_by_closure(Workspace)"
   ]
  },
  {
   "cell_type": "code",
   "execution_count": null,
   "id": "8eff5e31",
   "metadata": {},
   "outputs": [],
   "source": [
    "result = process_shapefiles(Workspace)\n",
    "\n",
    "if result is None:\n",
    "    print(\"Critical error occurred\")\n",
    "elif result:\n",
    "    print(\"Closures need attention\")\n",
    "else:\n",
    "    print(\"All checks passed successfully\")"
   ]
  },
  {
   "cell_type": "code",
   "execution_count": null,
   "id": "d580ca7e",
   "metadata": {},
   "outputs": [],
   "source": [
    "result = check_gistool_id(Workspace)\n",
    "\n",
    "if result is None:\n",
    "    print(\"Critical error occurred\")\n",
    "elif result:\n",
    "    print(\"Issues found in segments\")\n",
    "else:\n",
    "    print(\"All segment checks passed\")"
   ]
  },
  {
   "cell_type": "code",
   "execution_count": null,
   "id": "50d1626a",
   "metadata": {},
   "outputs": [],
   "source": []
  }
 ],
 "metadata": {
  "kernelspec": {
   "display_name": "Python 3",
   "language": "python",
   "name": "python3"
  },
  "language_info": {
   "codemirror_mode": {
    "name": "ipython",
    "version": 3
   },
   "file_extension": ".py",
   "mimetype": "text/x-python",
   "name": "python",
   "nbconvert_exporter": "python",
   "pygments_lexer": "ipython3",
   "version": "3.13.3"
  }
 },
 "nbformat": 4,
 "nbformat_minor": 5
}
