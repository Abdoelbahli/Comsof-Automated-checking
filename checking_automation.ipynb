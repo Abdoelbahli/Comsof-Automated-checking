{
 "cells": [
  {
   "cell_type": "code",
   "execution_count": null,
<<<<<<< HEAD
   "id": "a44cb532",
=======
   "id": "20860337",
>>>>>>> 888dc98e3cbec028a4b6a02d17260e60edaa5faf
   "metadata": {},
   "outputs": [],
   "source": [
    "import yaml\n",
    "import sys\n",
<<<<<<< HEAD
    "from automation import check_osc_duplicates, check_invalid_cable_refs, report_splice_counts_by_closure"
=======
    "from automation import check_osc_duplicates, check_invalid_cable_refs"
>>>>>>> 888dc98e3cbec028a4b6a02d17260e60edaa5faf
   ]
  },
  {
   "cell_type": "code",
   "execution_count": null,
   "id": "53ddf6ca",
   "metadata": {},
   "outputs": [],
   "source": [
    "# Load configuration from YAML\n",
    "try:\n",
    "    with open('config/secrets.yml', 'r') as f:\n",
    "        config = yaml.safe_load(f)\n",
<<<<<<< HEAD
    "    Workspace = config['outputfolder']['path']\n",
=======
    "        ouput = config['ouputfolder']['path']\n",
>>>>>>> 888dc98e3cbec028a4b6a02d17260e60edaa5faf
    "except Exception as e:\n",
    "    print(f\"Error reading config file: {e}\")\n",
    "    sys.exit(1)"
   ]
  },
  {
   "cell_type": "code",
   "execution_count": null,
   "id": "38524342",
   "metadata": {},
   "outputs": [],
   "source": [
    "# Call the function with direct path\n",
<<<<<<< HEAD
    "result = check_osc_duplicates(Workspace)\n",
=======
    "result = check_osc_duplicates(ouput)\n",
>>>>>>> 888dc98e3cbec028a4b6a02d17260e60edaa5faf
    "\n",
    "# Or call with hardcoded path\n",
    "\n",
    "# Handle results\n",
    "if result is None:\n",
    "    print(\"Check failed due to errors\")\n",
    "elif result:\n",
    "    print(\"Action required: Duplicates found!\")\n",
    "else:\n",
    "    print(\"Data quality check passed\")\n"
   ]
  },
  {
   "cell_type": "code",
   "execution_count": null,
   "id": "8ed10a27",
   "metadata": {},
   "outputs": [],
   "source": [
<<<<<<< HEAD
    "check_invalid_cable_refs(Workspace)"
=======
    "check_invalid_cable_refs(ouput)"
>>>>>>> 888dc98e3cbec028a4b6a02d17260e60edaa5faf
   ]
  },
  {
   "cell_type": "code",
   "execution_count": null,
<<<<<<< HEAD
   "id": "fb88156f",
   "metadata": {},
   "outputs": [],
   "source": [
    "report_splice_counts_by_closure(Workspace)"
   ]
  },
  {
   "cell_type": "code",
   "execution_count": null,
   "id": "fd15474a",
=======
   "id": "25e8fb76",
>>>>>>> 888dc98e3cbec028a4b6a02d17260e60edaa5faf
   "metadata": {},
   "outputs": [],
   "source": []
  }
 ],
 "metadata": {
  "kernelspec": {
   "display_name": "Python 3",
   "language": "python",
   "name": "python3"
  },
  "language_info": {
   "codemirror_mode": {
    "name": "ipython",
    "version": 3
   },
   "file_extension": ".py",
   "mimetype": "text/x-python",
   "name": "python",
   "nbconvert_exporter": "python",
   "pygments_lexer": "ipython3",
   "version": "3.13.3"
  }
 },
 "nbformat": 4,
 "nbformat_minor": 5
}
