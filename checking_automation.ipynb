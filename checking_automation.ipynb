{
 "cells": [
  {
   "cell_type": "code",
   "execution_count": null,
   "id": "c90a928a",
   "metadata": {},
   "outputs": [],
   "source": [
    "import yaml\n",
    "import geopandas as gpd\n",
    "from pathlib import Path"
   ]
  },
  {
   "cell_type": "code",
   "execution_count": null,
   "id": "c26efbf9",
   "metadata": {},
   "outputs": [],
   "source": [
    "# 2. Read the YAML config file\n",
    "with open('config/secrets.yml', 'r') as f:\n",
    "    config = yaml.safe_load(f)"
   ]
  },
  {
   "cell_type": "code",
   "execution_count": null,
   "id": "28cb079d",
   "metadata": {},
   "outputs": [],
   "source": [
    "# 3. Get the path from the YAML file\n",
    "shapefile_path = config['shapefile']['path']"
   ]
  },
  {
   "cell_type": "code",
   "execution_count": null,
   "id": "a0ad864e",
   "metadata": {},
   "outputs": [],
   "source": [
    "# 4. Open the shapefile using GeoPandas\n",
    "gdf = gpd.read_file(shapefile_path)"
   ]
  },
  {
   "cell_type": "code",
   "execution_count": null,
   "id": "3ab40a99",
   "metadata": {},
   "outputs": [],
   "source": [
    "# 5. Work with the GeoDataFrame\n",
    "print(\"Shapefile opened successfully!\")\n",
    "print(f\"Number of features: {len(gdf)}\")\n",
    "gdf.head()"
   ]
  },
  {
   "cell_type": "code",
   "execution_count": null,
   "id": "a989b745",
   "metadata": {},
   "outputs": [],
   "source": []
  }
 ],
 "metadata": {
  "kernelspec": {
   "display_name": "Python 3",
   "language": "python",
   "name": "python3"
  },
  "language_info": {
   "codemirror_mode": {
    "name": "ipython",
    "version": 3
   },
   "file_extension": ".py",
   "mimetype": "text/x-python",
   "name": "python",
   "nbconvert_exporter": "python",
   "pygments_lexer": "ipython3",
   "version": "3.13.3"
  }
 },
 "nbformat": 4,
 "nbformat_minor": 5
}
