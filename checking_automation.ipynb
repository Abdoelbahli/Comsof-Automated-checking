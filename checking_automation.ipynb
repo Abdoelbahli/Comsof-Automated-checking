{
 "cells": [
  {
   "cell_type": "code",
   "execution_count": null,
   "id": "c90a928a",
   "metadata": {},
   "outputs": [],
   "source": [
    "import yaml\n",
    "import geopandas as gpd\n",
    "from pathlib import Path\n",
    "import sys"
   ]
  },
  {
   "cell_type": "code",
   "execution_count": null,
   "id": "c26efbf9",
   "metadata": {},
   "outputs": [],
   "source": [
    "# Load configuration from YAML\n",
    "try:\n",
    "    with open('config/secrets.yml', 'r') as f:\n",
    "        config = yaml.safe_load(f)\n",
    "    shapefile_path = config['shapefile']['path']\n",
    "except Exception as e:\n",
    "    print(f\"Error reading config file: {e}\")\n",
    "    sys.exit(1)"
   ]
  },
  {
   "cell_type": "code",
   "execution_count": null,
   "id": "28cb079d",
   "metadata": {},
   "outputs": [],
   "source": [
    "# Read the shapefile\n",
    "try:\n",
    "    gdf = gpd.read_file(shapefile_path)\n",
    "except Exception as e:\n",
    "    print(f\"Error reading shapefile: {e}\")\n",
    "    sys.exit(1)"
   ]
  },
  {
   "cell_type": "code",
   "execution_count": null,
   "id": "a0ad864e",
   "metadata": {},
   "outputs": [],
   "source": [
    "# Check if column exists\n",
    "if 'LINKED_AGG' not in gdf.columns:\n",
    "    print(\"Error: 'LINKED_AGG' column not found in the shapefile\")\n",
    "    sys.exit(1)"
   ]
  },
  {
   "cell_type": "code",
   "execution_count": null,
   "id": "3ab40a99",
   "metadata": {},
   "outputs": [],
   "source": [
    "# Check for duplicates\n",
    "duplicates = gdf['LINKED_AGG'].duplicated(keep=False)\n",
    "\n",
    "if duplicates.any():\n",
    "    print(\"\\n⚠️  We have a problem of duplicated OSCs! ⚠️\")\n",
    "    print(f\"Number of duplicated entries: {duplicates.sum()}\")\n",
    "    print(\"Duplicate values:\")\n",
    "    print(gdf[duplicates]['LINKED_AGG'].value_counts())\n",
    "else:\n",
    "    print(\"\\n✅ Everything is okay - no duplicated OSCs found!\")"
   ]
  },
  {
   "cell_type": "code",
   "execution_count": null,
   "id": "a989b745",
   "metadata": {},
   "outputs": [],
   "source": []
  },
  {
   "cell_type": "code",
   "execution_count": null,
   "id": "5feb72c2",
   "metadata": {},
   "outputs": [],
   "source": []
  }
 ],
 "metadata": {
  "kernelspec": {
   "display_name": "Python 3",
   "language": "python",
   "name": "python3"
  },
  "language_info": {
   "codemirror_mode": {
    "name": "ipython",
    "version": 3
   },
   "file_extension": ".py",
   "mimetype": "text/x-python",
   "name": "python",
   "nbconvert_exporter": "python",
   "pygments_lexer": "ipython3",
   "version": "3.13.3"
  }
 },
 "nbformat": 4,
 "nbformat_minor": 5
}
