{
 "cells": [
  {
   "cell_type": "code",
   "execution_count": null,
   "id": "a44cb532",
   "metadata": {},
   "outputs": [],
   "source": [
    "import yaml\n",
    "import sys\n",
    "from automation import check_osc_duplicates, check_invalid_cable_refs, report_splice_counts_by_closure"
   ]
  },
  {
   "cell_type": "code",
   "execution_count": null,
   "id": "c26efbf9",
   "metadata": {},
   "outputs": [],
   "source": [
    "# Load configuration from YAML\n",
    "try:\n",
    "    with open('config/secrets.yml', 'r') as f:\n",
    "        config = yaml.safe_load(f)\n",
    "    Workspace = config['outputfolder']['path']\n",
    "except Exception as e:\n",
    "    print(f\"Error reading config file: {e}\")\n",
    "    sys.exit(1)"
   ]
  },
  {
   "cell_type": "code",
   "execution_count": null,
   "id": "28cb079d",
   "metadata": {},
   "outputs": [],
   "source": [
    "# Call the function with direct path\n",
    "result = check_osc_duplicates(Workspace)\n",
    "\n",
    "# Or call with hardcoded path\n",
    "\n",
    "# Handle results\n",
    "if result is None:\n",
    "    print(\"Check failed due to errors\")\n",
    "elif result:\n",
    "    print(\"Action required: Duplicates found!\")\n",
    "else:\n",
    "    print(\"Data quality check passed\")"
   ]
  },
  {
   "cell_type": "code",
   "execution_count": null,
   "id": "3ae6efed",
   "metadata": {},
   "outputs": [],
   "source": [
    "check_invalid_cable_refs(Workspace)"
   ]
  },
  {
   "cell_type": "code",
   "execution_count": null,
   "id": "fb88156f",
   "metadata": {},
   "outputs": [],
   "source": [
    "report_splice_counts_by_closure(Workspace)"
   ]
  },
  {
   "cell_type": "code",
   "execution_count": null,
   "id": "fd15474a",
   "metadata": {},
   "outputs": [],
   "source": []
  }
 ],
 "metadata": {
  "kernelspec": {
   "display_name": ".venv",
   "language": "python",
   "name": "python3"
  },
  "language_info": {
   "codemirror_mode": {
    "name": "ipython",
    "version": 3
   },
   "file_extension": ".py",
   "mimetype": "text/x-python",
   "name": "python",
   "nbconvert_exporter": "python",
   "pygments_lexer": "ipython3",
   "version": "3.13.3"
  }
 },
 "nbformat": 4,
 "nbformat_minor": 5
}
