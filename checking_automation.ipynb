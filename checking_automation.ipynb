{
 "cells": [
  {
   "cell_type": "code",
   "execution_count": 15,
   "id": "c90a928a",
   "metadata": {},
   "outputs": [],
   "source": [
    "import yaml\n",
    "import geopandas as gpd\n",
    "from pathlib import Path\n",
    "import sys"
   ]
  },
  {
   "cell_type": "code",
   "execution_count": 16,
   "id": "c26efbf9",
   "metadata": {},
   "outputs": [],
   "source": [
    "# Load configuration from YAML\n",
    "try:\n",
    "    with open('config/secrets.yml', 'r') as f:\n",
    "        config = yaml.safe_load(f)\n",
    "    shapefile_path = config['shapefile']['path']\n",
    "except Exception as e:\n",
    "    print(f\"Error reading config file: {e}\")\n",
    "    sys.exit(1)"
   ]
  },
  {
   "cell_type": "code",
   "execution_count": 18,
   "id": "28cb079d",
   "metadata": {},
   "outputs": [],
   "source": [
    "# Read the shapefile\n",
    "try:\n",
    "    gdf = gpd.read_file(shapefile_path)\n",
    "except Exception as e:\n",
    "    print(f\"Error reading shapefile: {e}\")\n",
    "    sys.exit(1)"
   ]
  },
  {
   "cell_type": "code",
   "execution_count": 19,
   "id": "a0ad864e",
   "metadata": {},
   "outputs": [],
   "source": [
    "# Check if column exists\n",
    "if 'LINKED_AGG' not in gdf.columns:\n",
    "    print(\"Error: 'LINKED_AGG' column not found in the shapefile\")\n",
    "    sys.exit(1)"
   ]
  },
  {
   "cell_type": "code",
   "execution_count": 20,
   "id": "3ab40a99",
   "metadata": {},
   "outputs": [
    {
     "name": "stdout",
     "output_type": "stream",
     "text": [
      "\n",
      "⚠️  We have a problem of duplicated OSCs! ⚠️\n",
      "Number of duplicated entries: 27\n",
      "Duplicate values:\n",
      "LINKED_AGG\n",
      "64    9\n",
      "63    8\n",
      "21    5\n",
      "50    3\n",
      "54    2\n",
      "Name: count, dtype: int64\n"
     ]
    }
   ],
   "source": [
    "# Check for duplicates\n",
    "duplicates = gdf['LINKED_AGG'].duplicated(keep=False)\n",
    "\n",
    "if duplicates.any():\n",
    "    print(\"\\n⚠️  We have a problem of duplicated OSCs! ⚠️\")\n",
    "    print(f\"Number of duplicated entries: {duplicates.sum()}\")\n",
    "    print(\"Duplicate values:\")\n",
    "    print(gdf[duplicates]['LINKED_AGG'].value_counts())\n",
    "else:\n",
    "    print(\"\\n✅ Everything is okay - no duplicated OSCs found!\")"
   ]
  },
  {
   "cell_type": "code",
   "execution_count": null,
   "id": "a989b745",
   "metadata": {},
   "outputs": [
    {
     "data": {
      "text/plain": [
       "LINKED_AGG\n",
       "64    9\n",
       "63    8\n",
       "21    5\n",
       "50    3\n",
       "54    2\n",
       "Name: count, dtype: int64"
      ]
     },
     "execution_count": 21,
     "metadata": {},
     "output_type": "execute_result"
    }
   ],
   "source": []
  },
  {
   "cell_type": "code",
   "execution_count": null,
   "id": "5feb72c2",
   "metadata": {},
   "outputs": [],
   "source": []
  }
 ],
 "metadata": {
  "kernelspec": {
   "display_name": "Python 3",
   "language": "python",
   "name": "python3"
  },
  "language_info": {
   "codemirror_mode": {
    "name": "ipython",
    "version": 3
   },
   "file_extension": ".py",
   "mimetype": "text/x-python",
   "name": "python",
   "nbconvert_exporter": "python",
   "pygments_lexer": "ipython3",
   "version": "3.13.3"
  }
 },
 "nbformat": 4,
 "nbformat_minor": 5
}
