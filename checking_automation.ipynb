{
 "cells": [
  {
   "cell_type": "code",
   "execution_count": null,
   "id": "c90a928a",
   "metadata": {},
   "outputs": [],
   "source": [
    "import yaml\n",
    "import sys\n",
    "from automation import check_osc_duplicates"
   ]
  },
  {
   "cell_type": "code",
   "execution_count": null,
   "id": "c26efbf9",
   "metadata": {},
   "outputs": [],
   "source": [
    "# Load configuration from YAML\n",
    "try:\n",
    "    with open('config/secrets.yml', 'r') as f:\n",
    "        config = yaml.safe_load(f)\n",
    "    shp_path = config['shapefile']['path']\n",
    "except Exception as e:\n",
    "    print(f\"Error reading config file: {e}\")\n",
    "    sys.exit(1)"
   ]
  },
  {
   "cell_type": "code",
   "execution_count": null,
   "id": "28cb079d",
   "metadata": {},
   "outputs": [],
   "source": [
    "# Call the function with direct path\n",
    "result = check_osc_duplicates(shp_path)\n",
    "\n",
    "# Or call with hardcoded path\n",
    "# result = check_osc_duplicates(r\"C:\\path\\to\\your\\file.shp\")\n",
    "\n",
    "# Handle results\n",
    "if result is None:\n",
    "    print(\"Check failed due to errors\")\n",
    "elif result:\n",
    "    print(\"Action required: Duplicates found!\")\n",
    "else:\n",
    "    print(\"Data quality check passed\")"
   ]
  }
 ],
 "metadata": {
  "kernelspec": {
   "display_name": "Python 3",
   "language": "python",
   "name": "python3"
  },
  "language_info": {
   "codemirror_mode": {
    "name": "ipython",
    "version": 3
   },
   "file_extension": ".py",
   "mimetype": "text/x-python",
   "name": "python",
   "nbconvert_exporter": "python",
   "pygments_lexer": "ipython3",
   "version": "3.13.3"
  }
 },
 "nbformat": 4,
 "nbformat_minor": 5
}
